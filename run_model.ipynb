{
 "cells": [
  {
   "cell_type": "code",
   "execution_count": 94,
   "id": "e695c4a0",
   "metadata": {},
   "outputs": [],
   "source": [
    "from caloGraphNN_keras import GravNet\n",
    "import uproot\n",
    "import awkward as ak\n",
    "import numpy as np\n",
    "import tensorflow.keras.backend as K"
   ]
  },
  {
   "cell_type": "code",
   "execution_count": 2,
   "id": "362e5cb9",
   "metadata": {},
   "outputs": [],
   "source": [
    "model = GravNet(5,5,5,5,\"find_phi\")"
   ]
  },
  {
   "cell_type": "code",
   "execution_count": 105,
   "id": "80a05657",
   "metadata": {},
   "outputs": [
    {
     "name": "stdout",
     "output_type": "stream",
     "text": [
      "<caloGraphNN_keras.GravNet object at 0x7f44dcb3d358>\n"
     ]
    }
   ],
   "source": [
    "print(model)"
   ]
  },
  {
   "cell_type": "code",
   "execution_count": 22,
   "id": "7470e5c5",
   "metadata": {},
   "outputs": [],
   "source": [
    "data = uproot.open('bstophiphi_gnn_total.root')['L1TrackNtuple/eventTree'].arrays()"
   ]
  },
  {
   "cell_type": "code",
   "execution_count": 52,
   "id": "e4093292",
   "metadata": {},
   "outputs": [
    {
     "data": {
      "text/plain": [
       "['trk_pt',\n",
       " 'trk_charge',\n",
       " 'trk_eta',\n",
       " 'trk_phi',\n",
       " 'trk_phi_local',\n",
       " 'trk_d0',\n",
       " 'trk_z0',\n",
       " 'trk_chi2',\n",
       " 'trk_chi2dof',\n",
       " 'trk_chi2rphi',\n",
       " 'trk_chi2rz',\n",
       " 'trk_bendchi2',\n",
       " 'trk_MVA1',\n",
       " 'trk_nstub',\n",
       " 'trk_lhits',\n",
       " 'trk_dhits',\n",
       " 'trk_seed',\n",
       " 'trk_hitpattern',\n",
       " 'trk_phiSector',\n",
       " 'trk_genuine',\n",
       " 'trk_loose',\n",
       " 'trk_unknown',\n",
       " 'trk_combinatoric',\n",
       " 'trk_fake',\n",
       " 'trk_matchtp_pdgid',\n",
       " 'trk_matchtp_pt',\n",
       " 'trk_matchtp_eta',\n",
       " 'trk_matchtp_phi',\n",
       " 'trk_matchtp_z0',\n",
       " 'trk_matchtp_dxy',\n",
       " 'trk_gtt_pt',\n",
       " 'trk_gtt_eta',\n",
       " 'trk_gtt_phi',\n",
       " 'trk_gtt_selected_index',\n",
       " 'trk_gtt_selected_emulation_index',\n",
       " 'trkExt_pt',\n",
       " 'trkExt_eta',\n",
       " 'trkExt_phi',\n",
       " 'trkExt_phi_local',\n",
       " 'trkExt_d0',\n",
       " 'trkExt_z0',\n",
       " 'trkExt_chi2',\n",
       " 'trkExt_chi2dof',\n",
       " 'trkExt_chi2rphi',\n",
       " 'trkExt_chi2rz',\n",
       " 'trkExt_bendchi2',\n",
       " 'trkExt_MVA',\n",
       " 'trkExt_nstub',\n",
       " 'trkExt_lhits',\n",
       " 'trkExt_dhits',\n",
       " 'trkExt_seed',\n",
       " 'trkExt_hitpattern',\n",
       " 'trkExt_phiSector',\n",
       " 'trkExt_genuine',\n",
       " 'trkExt_loose',\n",
       " 'trkExt_unknown',\n",
       " 'trkExt_combinatoric',\n",
       " 'trkExt_fake',\n",
       " 'trkExt_matchtp_pdgid',\n",
       " 'trkExt_matchtp_pt',\n",
       " 'trkExt_matchtp_eta',\n",
       " 'trkExt_matchtp_phi',\n",
       " 'trkExt_matchtp_z0',\n",
       " 'trkExt_matchtp_dxy',\n",
       " 'trkExt_gtt_pt',\n",
       " 'trkExt_gtt_eta',\n",
       " 'trkExt_gtt_phi',\n",
       " 'trkExt_gtt_selected_index',\n",
       " 'trkExt_gtt_selected_emulation_index',\n",
       " 'tp_pt',\n",
       " 'tp_eta',\n",
       " 'tp_phi',\n",
       " 'tp_dxy',\n",
       " 'tp_d0',\n",
       " 'tp_z0',\n",
       " 'tp_d0_prod',\n",
       " 'tp_z0_prod',\n",
       " 'tp_pdgid',\n",
       " 'tp_nmatch',\n",
       " 'tp_nstub',\n",
       " 'tp_eventid',\n",
       " 'tp_charge',\n",
       " 'matchtrk_pt',\n",
       " 'matchtrk_eta',\n",
       " 'matchtrk_phi',\n",
       " 'matchtrk_z0',\n",
       " 'matchtrk_d0',\n",
       " 'matchtrk_chi2',\n",
       " 'matchtrk_chi2dof',\n",
       " 'matchtrk_chi2rphi',\n",
       " 'matchtrk_chi2rz',\n",
       " 'matchtrk_bendchi2',\n",
       " 'matchtrk_MVA1',\n",
       " 'matchtrk_nstub',\n",
       " 'matchtrk_lhits',\n",
       " 'matchtrk_dhits',\n",
       " 'matchtrk_seed',\n",
       " 'matchtrk_hitpattern',\n",
       " 'matchtrkExt_pt',\n",
       " 'matchtrkExt_eta',\n",
       " 'matchtrkExt_phi',\n",
       " 'matchtrkExt_z0',\n",
       " 'matchtrkExt_d0',\n",
       " 'matchtrkExt_chi2',\n",
       " 'matchtrkExt_chi2dof',\n",
       " 'matchtrkExt_chi2rphi',\n",
       " 'matchtrkExt_chi2rz',\n",
       " 'matchtrkExt_bendchi2',\n",
       " 'matchtrkExt_MVA',\n",
       " 'matchtrkExt_nstub',\n",
       " 'matchtrkExt_lhits',\n",
       " 'matchtrkExt_dhits',\n",
       " 'matchtrkExt_seed',\n",
       " 'matchtrkExt_hitpattern',\n",
       " 'pv_L1reco',\n",
       " 'pv_L1reco_sum',\n",
       " 'pv_L1reco_emu',\n",
       " 'MC_lep',\n",
       " 'pv_MC',\n",
       " 'gen_pt',\n",
       " 'gen_phi',\n",
       " 'gen_pdgid',\n",
       " 'gen_z0',\n",
       " 'trkfastjet_eta',\n",
       " 'trkfastjet_vz',\n",
       " 'trkfastjet_p',\n",
       " 'trkfastjet_pt',\n",
       " 'trkfastjet_phi',\n",
       " 'trkfastjet_ntracks',\n",
       " 'trkfastjet_truetp_sumpt',\n",
       " 'trkjet_eta',\n",
       " 'trkjet_vz',\n",
       " 'trkjet_p',\n",
       " 'trkjet_pt',\n",
       " 'trkjet_phi',\n",
       " 'trkjet_ntracks',\n",
       " 'trkjet_nDisplaced',\n",
       " 'trkjet_nTight',\n",
       " 'trkjet_nTightDisplaced',\n",
       " 'trkjetem_eta',\n",
       " 'trkjetem_pt',\n",
       " 'trkjetem_phi',\n",
       " 'trkjetem_z',\n",
       " 'trkjetem_ntracks',\n",
       " 'trkjetem_nxtracks',\n",
       " 'trkfastjetExt_eta',\n",
       " 'trkfastjetExt_vz',\n",
       " 'trkfastjetExt_p',\n",
       " 'trkfastjetExt_pt',\n",
       " 'trkfastjetExt_phi',\n",
       " 'trkfastjetExt_ntracks',\n",
       " 'trkfastjetExt_truetp_sumpt',\n",
       " 'trkjetExt_eta',\n",
       " 'trkjetExt_vz',\n",
       " 'trkjetExt_p',\n",
       " 'trkjetExt_pt',\n",
       " 'trkjetExt_phi',\n",
       " 'trkjetExt_ntracks',\n",
       " 'trkjetExt_nDisplaced',\n",
       " 'trkjetExt_nTight',\n",
       " 'trkjetExt_nTightDisplaced',\n",
       " 'trkjetemExt_eta',\n",
       " 'trkjetemExt_pt',\n",
       " 'trkjetemExt_phi',\n",
       " 'trkjetemExt_z',\n",
       " 'trkjetemExt_ntracks',\n",
       " 'trkjetemExt_nxtracks',\n",
       " 'trueMET',\n",
       " 'trueTkMET',\n",
       " 'trkMET',\n",
       " 'trkMETEmu',\n",
       " 'trkMHT',\n",
       " 'trkHT',\n",
       " 'trkMHTEmu',\n",
       " 'trkMHTEmuPhi',\n",
       " 'trkHTEmu',\n",
       " 'trkMETExt',\n",
       " 'trkMHTExt',\n",
       " 'trkHTExt',\n",
       " 'trkMHTEmuExt',\n",
       " 'trkMHTEmuPhiExt',\n",
       " 'trkHTEmuExt']"
      ]
     },
     "execution_count": 52,
     "metadata": {},
     "output_type": "execute_result"
    }
   ],
   "source": [
    "data.fields"
   ]
  },
  {
   "cell_type": "code",
   "execution_count": 75,
   "id": "b0f57531",
   "metadata": {},
   "outputs": [
    {
     "data": {
      "text/plain": [
       "<Record ... trkHTEmuExt: 38.8} type='{\"trk_pt\": var * float32, \"trk_charge\": var...'>"
      ]
     },
     "execution_count": 75,
     "metadata": {},
     "output_type": "execute_result"
    }
   ],
   "source": []
  },
  {
   "cell_type": "code",
   "execution_count": 74,
   "id": "5c566192",
   "metadata": {},
   "outputs": [
    {
     "data": {
      "text/plain": [
       "<Array [[True, True, True, ... True, False]] type='20284 * var * bool'>"
      ]
     },
     "execution_count": 74,
     "metadata": {},
     "output_type": "execute_result"
    }
   ],
   "source": [
    "data[\"trk_gtt_selected_emulation_index\"]>=0"
   ]
  },
  {
   "cell_type": "code",
   "execution_count": 62,
   "id": "5de3208a",
   "metadata": {},
   "outputs": [
    {
     "ename": "ValueError",
     "evalue": "in ListArray64 attempting to get 151, index out of range\n\n(https://github.com/scikit-hep/awkward-1.0/blob/1.5.0/src/cpu-kernels/awkward_ListArray_getitem_jagged_apply.cpp#L43)",
     "output_type": "error",
     "traceback": [
      "\u001b[0;31m---------------------------------------------------------------------------\u001b[0m",
      "\u001b[0;31mValueError\u001b[0m                                Traceback (most recent call last)",
      "\u001b[0;32m<ipython-input-62-07dd1a3fb2f3>\u001b[0m in \u001b[0;36m<module>\u001b[0;34m\u001b[0m\n\u001b[0;32m----> 1\u001b[0;31m \u001b[0mdata\u001b[0m\u001b[0;34m[\u001b[0m\u001b[0mdata\u001b[0m\u001b[0;34m[\u001b[0m\u001b[0;34m\"trk_gtt_selected_emulation_index\"\u001b[0m\u001b[0;34m]\u001b[0m\u001b[0;34m>=\u001b[0m\u001b[0;36m0\u001b[0m\u001b[0;34m]\u001b[0m\u001b[0;34m\u001b[0m\u001b[0;34m\u001b[0m\u001b[0m\n\u001b[0m",
      "\u001b[0;32m/usr/local/lib/python3.6/dist-packages/awkward/highlevel.py\u001b[0m in \u001b[0;36m__getitem__\u001b[0;34m(self, where)\u001b[0m\n\u001b[1;32m    994\u001b[0m         \"\"\"\n\u001b[1;32m    995\u001b[0m         \u001b[0;32mif\u001b[0m \u001b[0;32mnot\u001b[0m \u001b[0mhasattr\u001b[0m\u001b[0;34m(\u001b[0m\u001b[0mself\u001b[0m\u001b[0;34m,\u001b[0m \u001b[0;34m\"_tracers\"\u001b[0m\u001b[0;34m)\u001b[0m\u001b[0;34m:\u001b[0m\u001b[0;34m\u001b[0m\u001b[0;34m\u001b[0m\u001b[0m\n\u001b[0;32m--> 996\u001b[0;31m             \u001b[0mtmp\u001b[0m \u001b[0;34m=\u001b[0m \u001b[0mak\u001b[0m\u001b[0;34m.\u001b[0m\u001b[0m_util\u001b[0m\u001b[0;34m.\u001b[0m\u001b[0mwrap\u001b[0m\u001b[0;34m(\u001b[0m\u001b[0mself\u001b[0m\u001b[0;34m.\u001b[0m\u001b[0mlayout\u001b[0m\u001b[0;34m[\u001b[0m\u001b[0mwhere\u001b[0m\u001b[0;34m]\u001b[0m\u001b[0;34m,\u001b[0m \u001b[0mself\u001b[0m\u001b[0;34m.\u001b[0m\u001b[0m_behavior\u001b[0m\u001b[0;34m)\u001b[0m\u001b[0;34m\u001b[0m\u001b[0;34m\u001b[0m\u001b[0m\n\u001b[0m\u001b[1;32m    997\u001b[0m         \u001b[0;32melse\u001b[0m\u001b[0;34m:\u001b[0m\u001b[0;34m\u001b[0m\u001b[0;34m\u001b[0m\u001b[0m\n\u001b[1;32m    998\u001b[0m             \u001b[0mtmp\u001b[0m \u001b[0;34m=\u001b[0m \u001b[0mak\u001b[0m\u001b[0;34m.\u001b[0m\u001b[0m_connect\u001b[0m\u001b[0;34m.\u001b[0m\u001b[0m_jax\u001b[0m\u001b[0;34m.\u001b[0m\u001b[0mjax_utils\u001b[0m\u001b[0;34m.\u001b[0m\u001b[0m_jaxtracers_getitem\u001b[0m\u001b[0;34m(\u001b[0m\u001b[0mself\u001b[0m\u001b[0;34m,\u001b[0m \u001b[0mwhere\u001b[0m\u001b[0;34m)\u001b[0m\u001b[0;34m\u001b[0m\u001b[0;34m\u001b[0m\u001b[0m\n",
      "\u001b[0;31mValueError\u001b[0m: in ListArray64 attempting to get 151, index out of range\n\n(https://github.com/scikit-hep/awkward-1.0/blob/1.5.0/src/cpu-kernels/awkward_ListArray_getitem_jagged_apply.cpp#L43)"
     ]
    }
   ],
   "source": [
    "data[data[\"trk_gtt_selected_emulation_index\"]>=0]"
   ]
  },
  {
   "cell_type": "code",
   "execution_count": 76,
   "id": "49f24765",
   "metadata": {},
   "outputs": [
    {
     "data": {
      "text/plain": [
       "<Array [[4.01, 2.11, 2.32, ... 3.32, 2.35]] type='20284 * var * float32'>"
      ]
     },
     "execution_count": 76,
     "metadata": {},
     "output_type": "execute_result"
    }
   ],
   "source": [
    "gtt_cut = (data[\"trk_gtt_selected_emulation_index\"]>=0)\n",
    "data[\"trk_pt\"][gtt_cut]"
   ]
  },
  {
   "cell_type": "code",
   "execution_count": 106,
   "id": "7ce086ce",
   "metadata": {},
   "outputs": [],
   "source": [
    "gtt_cut = (data[\"trk_gtt_selected_emulation_index\"]>=0)\n",
    "input_names = [\"trk_pt\",\"trk_eta\",\"trk_phi\",\"trk_z0\",\"trk_chi2rphi\",\"trk_chi2rz\",\"trk_bendchi2\",\"trk_nstub\"]\n",
    "n_events = 200\n",
    "n_trks = 100\n",
    "\n",
    "X = np.empty((n_events, n_trks, len(input_names)),dtype=np.float32)\n",
    "for ii in range(len(input_names)):\n",
    "    feat = data[input_names[ii]][gtt_cut][:n_events]\n",
    "    X[:, :, ii] = ak.to_numpy(ak.fill_none(ak.pad_none(feat, n_trks, axis=-1, clip=True),0,axis=-1))\n"
   ]
  },
  {
   "cell_type": "code",
   "execution_count": 107,
   "id": "9d423cb4",
   "metadata": {},
   "outputs": [],
   "source": [
    "model.build(X.shape)"
   ]
  },
  {
   "cell_type": "code",
   "execution_count": 108,
   "id": "947bdf02",
   "metadata": {},
   "outputs": [],
   "source": [
    "tensor_X = K.constant(X)\n",
    "output = model.call(tensor_X)"
   ]
  },
  {
   "cell_type": "code",
   "execution_count": 109,
   "id": "dc312bd5",
   "metadata": {},
   "outputs": [
    {
     "name": "stdout",
     "output_type": "stream",
     "text": [
      "(200, 100, 8)\n",
      "(200, 100, 5)\n"
     ]
    }
   ],
   "source": [
    "print(X.shape)\n",
    "print(output.shape)"
   ]
  },
  {
   "cell_type": "code",
   "execution_count": 110,
   "id": "0f64cd76",
   "metadata": {},
   "outputs": [
    {
     "data": {
      "text/plain": [
       "{'name': 'find_phi',\n",
       " 'trainable': True,\n",
       " 'dtype': 'float32',\n",
       " 'n_neighbours': 5,\n",
       " 'n_dimensions': 5,\n",
       " 'n_filters': 5,\n",
       " 'n_propagate': 5,\n",
       " 'also_coordinates': False,\n",
       " 'feature_dropout': -1,\n",
       " 'masked_coordinate_offset': None}"
      ]
     },
     "execution_count": 110,
     "metadata": {},
     "output_type": "execute_result"
    }
   ],
   "source": [
    "model.get_config()"
   ]
  },
  {
   "cell_type": "code",
   "execution_count": null,
   "id": "afe8777d",
   "metadata": {},
   "outputs": [],
   "source": []
  }
 ],
 "metadata": {
  "kernelspec": {
   "display_name": "Python 3",
   "language": "python",
   "name": "python3"
  },
  "language_info": {
   "codemirror_mode": {
    "name": "ipython",
    "version": 3
   },
   "file_extension": ".py",
   "mimetype": "text/x-python",
   "name": "python",
   "nbconvert_exporter": "python",
   "pygments_lexer": "ipython3",
   "version": "3.6.9"
  }
 },
 "nbformat": 4,
 "nbformat_minor": 5
}
